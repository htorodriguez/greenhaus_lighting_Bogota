{
 "cells": [
  {
   "cell_type": "markdown",
   "metadata": {},
   "source": [
    "### Is it worth introducing artifical lightinging greenhouses for vegetable growth in Bogota- Colombia ?\n",
    "\n",
    "I have received several questions of people wondering if it is worth introducing artificial lighting in green hauses in Bogota. For rooftop city gardening or classical greenhaus applications you would like to quantify how much solar photons are getting to your crop, and if its worth to pay for a system that delivers complementary photons to enhance prodiction around the year. \n",
    "\n",
    "I break this question into three questions that can be adressed quantitaviely based on irradiation data.\n",
    "1) what are the average hours of light per day in the region\n",
    "2) how much energy in forms of usable photons per square meter are shining in the region per day\n",
    "3) is there an influence if the inmediate enviroments is the city (for rooftop gardening) or agricultural lands (for large scale production) \n",
    "\n",
    "I will address these questions using data from the National Solar Radiation Database (NSRDB), which has satellite data from 1998 to 2018. \n",
    "\n",
    "The first step is to download the data from the NSRDB website, https://maps.nrel.gov/nsrdb-viewer for the region with the coordinates (4.77, -74.02) to (4.49, -74.18), which spans a rectangular network around Bogota. To compare data of the city the that of the adjacent north region, which is known for its large greenhaus cultures, I also downloaded the data for the region with coordinates (4.81, -74.14) to (4.97, -73.94), which will be refered to \"north\" of bogota. These regions are roughly 400km2 in extension. If you want to check these regions you can do this easily at http://www.hamstermap.com/quickmap.php. \n",
    "\n",
    "Once the download is ready, I load the data into this notebook to adress this question"
   ]
  },
  {
   "cell_type": "code",
   "execution_count": 1,
   "metadata": {},
   "outputs": [],
   "source": [
    "import os\n",
    "import pandas as pd\n",
    "import matplotlib as plt\n",
    "import numpy as np\n",
    "import seaborn as sns\n",
    "import time\n",
    "sns.set(style=\"darkgrid\")\n"
   ]
  },
  {
   "cell_type": "code",
   "execution_count": 2,
   "metadata": {},
   "outputs": [],
   "source": [
    "data_dir_bogota= r'.\\data\\data_irradiation_bogota'\n",
    "data_dir_north_bogota= r'.\\data\\data_irradiation_north_bogota'"
   ]
  },
  {
   "cell_type": "code",
   "execution_count": 3,
   "metadata": {},
   "outputs": [
    {
     "name": "stdout",
     "output_type": "stream",
     "text": [
      "Total time 730.7293486595154\n"
     ]
    }
   ],
   "source": [
    "start = time.time()\n",
    "file_list_bogota=os.listdir(data_dir_bogota)\n",
    "df_bogota=pd.DataFrame()\n",
    "for file in file_list_bogota:\n",
    "    df=pd.read_csv(data_dir_bogota+ '\\\\' +file, header=2)\n",
    "    df['region_type']='city'\n",
    "    df['file']=file\n",
    "    df_bogota=df_bogota.append(df)\n",
    "    \n",
    "file_list_north_bogota=os.listdir(data_dir_north_bogota)\n",
    "for file in file_list_north_bogota:\n",
    "    df=pd.read_csv(data_dir_north_bogota+ '\\\\' +file, header=2)\n",
    "    df['region_type']='north'\n",
    "    df['file']=file\n",
    "    df_bogota=df_bogota.append(df)\n",
    "end=time.time()\n",
    "print('Total time', end-start)"
   ]
  },
  {
   "cell_type": "markdown",
   "metadata": {},
   "source": [
    "This is the raw data, now lets arrange it a bit, look at its head and shape"
   ]
  },
  {
   "cell_type": "code",
   "execution_count": 4,
   "metadata": {},
   "outputs": [
    {
     "data": {
      "text/html": [
       "<div>\n",
       "<style scoped>\n",
       "    .dataframe tbody tr th:only-of-type {\n",
       "        vertical-align: middle;\n",
       "    }\n",
       "\n",
       "    .dataframe tbody tr th {\n",
       "        vertical-align: top;\n",
       "    }\n",
       "\n",
       "    .dataframe thead th {\n",
       "        text-align: right;\n",
       "    }\n",
       "</style>\n",
       "<table border=\"1\" class=\"dataframe\">\n",
       "  <thead>\n",
       "    <tr style=\"text-align: right;\">\n",
       "      <th></th>\n",
       "      <th>Year</th>\n",
       "      <th>Month</th>\n",
       "      <th>Day</th>\n",
       "      <th>Hour</th>\n",
       "      <th>Minute</th>\n",
       "      <th>GHI</th>\n",
       "      <th>Dew Point</th>\n",
       "      <th>Surface Albedo</th>\n",
       "      <th>Wind Speed</th>\n",
       "      <th>Relative Humidity</th>\n",
       "      <th>Temperature</th>\n",
       "      <th>Pressure</th>\n",
       "      <th>region_type</th>\n",
       "      <th>file</th>\n",
       "      <th>site</th>\n",
       "      <th>latitude</th>\n",
       "      <th>longitude</th>\n",
       "    </tr>\n",
       "  </thead>\n",
       "  <tbody>\n",
       "    <tr>\n",
       "      <th>0</th>\n",
       "      <td>2008</td>\n",
       "      <td>1</td>\n",
       "      <td>1</td>\n",
       "      <td>0</td>\n",
       "      <td>30</td>\n",
       "      <td>0</td>\n",
       "      <td>8.0</td>\n",
       "      <td>0.204</td>\n",
       "      <td>0.9</td>\n",
       "      <td>75.39</td>\n",
       "      <td>11.0</td>\n",
       "      <td>790.0</td>\n",
       "      <td>city</td>\n",
       "      <td>1238401_4.77_-74.18_2008.csv</td>\n",
       "      <td>1238401</td>\n",
       "      <td>4.77</td>\n",
       "      <td>-74.18</td>\n",
       "    </tr>\n",
       "    <tr>\n",
       "      <th>1</th>\n",
       "      <td>2008</td>\n",
       "      <td>1</td>\n",
       "      <td>1</td>\n",
       "      <td>1</td>\n",
       "      <td>30</td>\n",
       "      <td>0</td>\n",
       "      <td>8.0</td>\n",
       "      <td>0.204</td>\n",
       "      <td>0.9</td>\n",
       "      <td>79.10</td>\n",
       "      <td>11.0</td>\n",
       "      <td>780.0</td>\n",
       "      <td>city</td>\n",
       "      <td>1238401_4.77_-74.18_2008.csv</td>\n",
       "      <td>1238401</td>\n",
       "      <td>4.77</td>\n",
       "      <td>-74.18</td>\n",
       "    </tr>\n",
       "    <tr>\n",
       "      <th>2</th>\n",
       "      <td>2008</td>\n",
       "      <td>1</td>\n",
       "      <td>1</td>\n",
       "      <td>2</td>\n",
       "      <td>30</td>\n",
       "      <td>0</td>\n",
       "      <td>8.0</td>\n",
       "      <td>0.204</td>\n",
       "      <td>0.8</td>\n",
       "      <td>78.30</td>\n",
       "      <td>10.0</td>\n",
       "      <td>780.0</td>\n",
       "      <td>city</td>\n",
       "      <td>1238401_4.77_-74.18_2008.csv</td>\n",
       "      <td>1238401</td>\n",
       "      <td>4.77</td>\n",
       "      <td>-74.18</td>\n",
       "    </tr>\n",
       "    <tr>\n",
       "      <th>3</th>\n",
       "      <td>2008</td>\n",
       "      <td>1</td>\n",
       "      <td>1</td>\n",
       "      <td>3</td>\n",
       "      <td>30</td>\n",
       "      <td>0</td>\n",
       "      <td>8.0</td>\n",
       "      <td>0.204</td>\n",
       "      <td>0.8</td>\n",
       "      <td>77.74</td>\n",
       "      <td>10.0</td>\n",
       "      <td>790.0</td>\n",
       "      <td>city</td>\n",
       "      <td>1238401_4.77_-74.18_2008.csv</td>\n",
       "      <td>1238401</td>\n",
       "      <td>4.77</td>\n",
       "      <td>-74.18</td>\n",
       "    </tr>\n",
       "    <tr>\n",
       "      <th>4</th>\n",
       "      <td>2008</td>\n",
       "      <td>1</td>\n",
       "      <td>1</td>\n",
       "      <td>4</td>\n",
       "      <td>30</td>\n",
       "      <td>0</td>\n",
       "      <td>8.0</td>\n",
       "      <td>0.204</td>\n",
       "      <td>0.8</td>\n",
       "      <td>76.93</td>\n",
       "      <td>10.0</td>\n",
       "      <td>790.0</td>\n",
       "      <td>city</td>\n",
       "      <td>1238401_4.77_-74.18_2008.csv</td>\n",
       "      <td>1238401</td>\n",
       "      <td>4.77</td>\n",
       "      <td>-74.18</td>\n",
       "    </tr>\n",
       "  </tbody>\n",
       "</table>\n",
       "</div>"
      ],
      "text/plain": [
       "   Year  Month  Day  Hour  Minute  GHI  Dew Point  Surface Albedo  Wind Speed  \\\n",
       "0  2008      1    1     0      30    0        8.0           0.204         0.9   \n",
       "1  2008      1    1     1      30    0        8.0           0.204         0.9   \n",
       "2  2008      1    1     2      30    0        8.0           0.204         0.8   \n",
       "3  2008      1    1     3      30    0        8.0           0.204         0.8   \n",
       "4  2008      1    1     4      30    0        8.0           0.204         0.8   \n",
       "\n",
       "   Relative Humidity  Temperature  Pressure region_type  \\\n",
       "0              75.39         11.0     790.0        city   \n",
       "1              79.10         11.0     780.0        city   \n",
       "2              78.30         10.0     780.0        city   \n",
       "3              77.74         10.0     790.0        city   \n",
       "4              76.93         10.0     790.0        city   \n",
       "\n",
       "                           file     site  latitude  longitude  \n",
       "0  1238401_4.77_-74.18_2008.csv  1238401      4.77     -74.18  \n",
       "1  1238401_4.77_-74.18_2008.csv  1238401      4.77     -74.18  \n",
       "2  1238401_4.77_-74.18_2008.csv  1238401      4.77     -74.18  \n",
       "3  1238401_4.77_-74.18_2008.csv  1238401      4.77     -74.18  \n",
       "4  1238401_4.77_-74.18_2008.csv  1238401      4.77     -74.18  "
      ]
     },
     "execution_count": 4,
     "metadata": {},
     "output_type": "execute_result"
    }
   ],
   "source": [
    "df_bogota['site']=df_bogota['file'].apply(lambda x:int(x.split('_')[0]))\n",
    "df_bogota['latitude']=df_bogota['file'].apply(lambda x:float(x.split('_')[1]))\n",
    "df_bogota['longitude']=df_bogota['file'].apply(lambda x:float(x.split('_')[2]))\n",
    "df_bogota['region_type']=df_bogota['region_type'].astype(str)\n",
    "df_bogota.head()"
   ]
  },
  {
   "cell_type": "code",
   "execution_count": 5,
   "metadata": {},
   "outputs": [
    {
     "name": "stdout",
     "output_type": "stream",
     "text": [
      "The number of entries: 7323360\n",
      "The number of sites:  76\n",
      "The number of Years:  11\n",
      "For 365 days/year, we expect 7323360 entries:\n"
     ]
    }
   ],
   "source": [
    "print('The number of entries:',df_bogota.shape[0])\n",
    "print('The number of sites: ', len (set(df_bogota['site'])))\n",
    "print('The number of Years: ', len (set(df_bogota['Year'])))\n",
    "print('For 365 days/year, we expect {} entries:'.format(len(set(df_bogota['site']))*len(set(df_bogota['Year']))*365*24))"
   ]
  },
  {
   "cell_type": "markdown",
   "metadata": {},
   "source": [
    "Let us now check if we have Na's, and the columns types"
   ]
  },
  {
   "cell_type": "code",
   "execution_count": 6,
   "metadata": {},
   "outputs": [
    {
     "data": {
      "text/plain": [
       "{2008, 2009, 2010, 2011, 2012, 2013, 2014, 2015, 2016, 2017, 2018}"
      ]
     },
     "execution_count": 6,
     "metadata": {},
     "output_type": "execute_result"
    }
   ],
   "source": [
    "set(df_bogota['Year'])"
   ]
  },
  {
   "cell_type": "code",
   "execution_count": 7,
   "metadata": {},
   "outputs": [
    {
     "data": {
      "text/plain": [
       "0"
      ]
     },
     "execution_count": 7,
     "metadata": {},
     "output_type": "execute_result"
    }
   ],
   "source": [
    "df_bogota.isna().sum().sum()"
   ]
  },
  {
   "cell_type": "code",
   "execution_count": 8,
   "metadata": {},
   "outputs": [
    {
     "data": {
      "text/plain": [
       "Year                   int64\n",
       "Month                  int64\n",
       "Day                    int64\n",
       "Hour                   int64\n",
       "Minute                 int64\n",
       "GHI                    int64\n",
       "Dew Point            float64\n",
       "Surface Albedo       float64\n",
       "Wind Speed           float64\n",
       "Relative Humidity    float64\n",
       "Temperature          float64\n",
       "Pressure             float64\n",
       "region_type           object\n",
       "file                  object\n",
       "site                   int64\n",
       "latitude             float64\n",
       "longitude            float64\n",
       "dtype: object"
      ]
     },
     "execution_count": 8,
     "metadata": {},
     "output_type": "execute_result"
    }
   ],
   "source": [
    "df_bogota.dtypes"
   ]
  },
  {
   "cell_type": "markdown",
   "metadata": {},
   "source": [
    "The data set is quite forgiving because it does not have any na's, and most of the data are numeric. Now I will perfom some data wrangling to have the information needed. \n",
    "\n",
    "The column GHI, gives the horizontal global irradiance (including the direct normal irradiance, and the diffuse horizontal irradiance) in W/m2. Lets aggregate the data of the years 2008-2018, and plot the average irradiance evolution over the day for the different months"
   ]
  },
  {
   "cell_type": "code",
   "execution_count": 9,
   "metadata": {},
   "outputs": [
    {
     "data": {
      "text/plain": [
       "<seaborn.axisgrid.FacetGrid at 0x2a985d855c0>"
      ]
     },
     "execution_count": 9,
     "metadata": {},
     "output_type": "execute_result"
    },
    {
     "data": {
      "image/png": "[encoded data removed]",
      "text/plain": [
       "<Figure size 430.35x360 with 1 Axes>"
      ]
     },
     "metadata": {
      "needs_background": "light"
     },
     "output_type": "display_data"
    }
   ],
   "source": [
    "import warnings\n",
    "warnings.filterwarnings('ignore')\n",
    "g=sns.relplot(x='Hour', y='GHI', data=df_bogota, hue='Month' ,kind='line')\n",
    "g.set(ylabel='GHI / W/m2', ylim=(1,800))"
   ]
  },
  {
   "cell_type": "markdown",
   "metadata": {},
   "source": [
    "As seen from the graph above, and explained by the geographical situation close to the equator, the sunrise and sunset times did not vary significantly above the imte resolution (1 hour). Therefore we can aggregate the data to answer the first question: what are the average daily hours in the region of interest? For this we assume that sunhours start when the irradiation is above 100W/m2, which is a reasonable assumption."
   ]
  },
  {
   "cell_type": "code",
   "execution_count": 10,
   "metadata": {},
   "outputs": [
    {
     "name": "stdout",
     "output_type": "stream",
     "text": [
      "Daily sun hours in the region of Bogota is 10 hours\n"
     ]
    }
   ],
   "source": [
    "grouped_hour=df_bogota.groupby(['Hour']).agg({'GHI':['mean']})\n",
    "grouped_hour.columns = ['GHI_mean']\n",
    "grouped_hour=grouped_hour.reset_index()\n",
    "daily_hours=grouped_hour['GHI_mean']>100\n",
    "print('Daily sun hours in the region of Bogota is {} hours'.format(daily_hours.sum()))"
   ]
  },
  {
   "cell_type": "markdown",
   "metadata": {},
   "source": [
    "Therefore plants have in mean 14h to produce energy from the sugars produced from photosynthesis, during the so called plant respiration process. Depending on the plant, these amount of time can be sufficent or can be superfluos. \n",
    "Now, to obtain the total energy available for photosynthesis, clearly, and based on the graph above, a mean daily amount of light is not enough. We need to intgrate the irradeiance over the day, and we see that we need to adress this as a fnction of the month."
   ]
  },
  {
   "cell_type": "code",
   "execution_count": 11,
   "metadata": {},
   "outputs": [
    {
     "data": {
      "text/html": [
       "<div>\n",
       "<style scoped>\n",
       "    .dataframe tbody tr th:only-of-type {\n",
       "        vertical-align: middle;\n",
       "    }\n",
       "\n",
       "    .dataframe tbody tr th {\n",
       "        vertical-align: top;\n",
       "    }\n",
       "\n",
       "    .dataframe thead th {\n",
       "        text-align: right;\n",
       "    }\n",
       "</style>\n",
       "<table border=\"1\" class=\"dataframe\">\n",
       "  <thead>\n",
       "    <tr style=\"text-align: right;\">\n",
       "      <th></th>\n",
       "      <th>Month</th>\n",
       "      <th>region_type</th>\n",
       "      <th>GHI_cumsum</th>\n",
       "    </tr>\n",
       "  </thead>\n",
       "  <tbody>\n",
       "    <tr>\n",
       "      <th>47</th>\n",
       "      <td>1</td>\n",
       "      <td>north</td>\n",
       "      <td>5258.190860</td>\n",
       "    </tr>\n",
       "    <tr>\n",
       "      <th>46</th>\n",
       "      <td>1</td>\n",
       "      <td>city</td>\n",
       "      <td>5242.117962</td>\n",
       "    </tr>\n",
       "  </tbody>\n",
       "</table>\n",
       "</div>"
      ],
      "text/plain": [
       "    Month region_type   GHI_cumsum\n",
       "47      1       north  5258.190860\n",
       "46      1        city  5242.117962"
      ]
     },
     "execution_count": 11,
     "metadata": {},
     "output_type": "execute_result"
    }
   ],
   "source": [
    "grouped_month=df_bogota.groupby(['Month', 'Hour', 'region_type']).agg({'GHI':['mean']})\n",
    "grouped_month.columns=['GHI_mean']\n",
    "grouped_month=grouped_month.reset_index()\n",
    "\n",
    "int_grouped_month=pd.DataFrame()\n",
    "for month in set(grouped_month['Month']):\n",
    "    for region in set(grouped_month['region_type']):\n",
    "        df=grouped_month[(grouped_month['Month']==month)&(grouped_month['region_type']==region)]\n",
    "        df['GHI_cumsum']=np.cumsum(df['GHI_mean'])\n",
    "        int_grouped_month=int_grouped_month.append(df)\n",
    "int_grouped_month=int_grouped_month[int_grouped_month['Hour']==23]\n",
    "int_grouped_month=int_grouped_month.drop(['Hour', 'GHI_mean'], axis=1)\n",
    "int_grouped_month.head(2)"
   ]
  },
  {
   "cell_type": "markdown",
   "metadata": {},
   "source": [
    "This data is Wh/m2, and is distributed over the whole wavelength spectrum. However it is know that only the wavelengths from 400 to 700 nm contribute to photosynthesis, which in terms of irradiance is about 45% of the energy irradiated. This ignores that at lower intensites the spectrum will change (lets recall the colors at sunset and sunrise), but we will neglect this for the moment. On the other hand, plant growers are more used to units of micromols of photons per m2, rather than Wh/m2. We assume a conversion factor of 8.5 mols/m2 per 1000Wh/m2, which once again assumes a fixed solar spectrum (spectrum AM1.5). Making these assumptions we can answer the second question: how much photons are available for plant growth per day?"
   ]
  },
  {
   "cell_type": "code",
   "execution_count": 12,
   "metadata": {},
   "outputs": [],
   "source": [
    "int_grouped_month['mols_m2']=int_grouped_month['GHI_cumsum']*0.45/1000*8.5"
   ]
  },
  {
   "cell_type": "code",
   "execution_count": 13,
   "metadata": {},
   "outputs": [
    {
     "data": {
      "text/html": [
       "<div>\n",
       "<style scoped>\n",
       "    .dataframe tbody tr th:only-of-type {\n",
       "        vertical-align: middle;\n",
       "    }\n",
       "\n",
       "    .dataframe tbody tr th {\n",
       "        vertical-align: top;\n",
       "    }\n",
       "\n",
       "    .dataframe thead th {\n",
       "        text-align: right;\n",
       "    }\n",
       "</style>\n",
       "<table border=\"1\" class=\"dataframe\">\n",
       "  <thead>\n",
       "    <tr style=\"text-align: right;\">\n",
       "      <th></th>\n",
       "      <th>region_type</th>\n",
       "      <th>mols_m2_mean</th>\n",
       "    </tr>\n",
       "  </thead>\n",
       "  <tbody>\n",
       "    <tr>\n",
       "      <th>0</th>\n",
       "      <td>city</td>\n",
       "      <td>17.967812</td>\n",
       "    </tr>\n",
       "    <tr>\n",
       "      <th>1</th>\n",
       "      <td>north</td>\n",
       "      <td>17.592073</td>\n",
       "    </tr>\n",
       "  </tbody>\n",
       "</table>\n",
       "</div>"
      ],
      "text/plain": [
       "  region_type  mols_m2_mean\n",
       "0        city     17.967812\n",
       "1       north     17.592073"
      ]
     },
     "execution_count": 13,
     "metadata": {},
     "output_type": "execute_result"
    }
   ],
   "source": [
    "umols_region=int_grouped_month.groupby(['region_type']).agg({'mols_m2':['mean']})\n",
    "umols_region.columns=['mols_m2_mean']\n",
    "umols_region=umols_region.reset_index()\n",
    "umols_region"
   ]
  },
  {
   "cell_type": "markdown",
   "metadata": {},
   "source": [
    "The average number of photons available per day is slightly larger in the city. This is most probably due to the larger diffused irradiation present in the city."
   ]
  },
  {
   "cell_type": "code",
   "execution_count": 14,
   "metadata": {},
   "outputs": [
    {
     "data": {
      "image/png": "[encoded data removed]",
      "text/plain": [
       "<Figure size 432x288 with 1 Axes>"
      ]
     },
     "metadata": {
      "needs_background": "light"
     },
     "output_type": "display_data"
    }
   ],
   "source": [
    "g=sns.barplot(x='Month', y='mols_m2', hue='region_type',data=int_grouped_month)\n"
   ]
  },
  {
   "cell_type": "markdown",
   "metadata": {},
   "source": [
    "A significant decrease in photon number is observed from January to June, and the maximum difference between the city and the rural north, is observed in september. REcall that this assumes a perfectly transparent greenhaus, which is far from reality. For more realistic estimation a factor of 0.7 to 0.9 should be multiplied to these values depending on the greenhaus material. \n",
    "\n",
    "In the use case of canopy growth, it has been reported that an optimum in organic mass will be obtained at about 30 Moles per day with 12h cycles. The graph below shows how much Moles are missing to achieve this"
   ]
  },
  {
   "cell_type": "code",
   "execution_count": 15,
   "metadata": {},
   "outputs": [
    {
     "data": {
      "image/png": "[encoded data removed]",
      "text/plain": [
       "<Figure size 432x288 with 1 Axes>"
      ]
     },
     "metadata": {
      "needs_background": "light"
     },
     "output_type": "display_data"
    }
   ],
   "source": [
    "int_grouped_month['Missing_moles']=30-int_grouped_month['mols_m2']\n",
    "g=sns.barplot(x='Month', y='Missing_moles', hue='region_type',data=int_grouped_month)"
   ]
  },
  {
   "cell_type": "code",
   "execution_count": 18,
   "metadata": {},
   "outputs": [
    {
     "data": {
      "text/html": [
       "<div>\n",
       "<style scoped>\n",
       "    .dataframe tbody tr th:only-of-type {\n",
       "        vertical-align: middle;\n",
       "    }\n",
       "\n",
       "    .dataframe tbody tr th {\n",
       "        vertical-align: top;\n",
       "    }\n",
       "\n",
       "    .dataframe thead th {\n",
       "        text-align: right;\n",
       "    }\n",
       "</style>\n",
       "<table border=\"1\" class=\"dataframe\">\n",
       "  <thead>\n",
       "    <tr style=\"text-align: right;\">\n",
       "      <th></th>\n",
       "      <th>region_type</th>\n",
       "      <th>sum_missing_moles_year</th>\n",
       "      <th>sum_missing_kWh_year</th>\n",
       "      <th>Cost_per_m2_per_year_USD</th>\n",
       "    </tr>\n",
       "  </thead>\n",
       "  <tbody>\n",
       "    <tr>\n",
       "      <th>0</th>\n",
       "      <td>city</td>\n",
       "      <td>4331.587753</td>\n",
       "      <td>1132.441243</td>\n",
       "      <td>199.309659</td>\n",
       "    </tr>\n",
       "    <tr>\n",
       "      <th>1</th>\n",
       "      <td>north</td>\n",
       "      <td>4466.853668</td>\n",
       "      <td>1167.804881</td>\n",
       "      <td>205.533659</td>\n",
       "    </tr>\n",
       "  </tbody>\n",
       "</table>\n",
       "</div>"
      ],
      "text/plain": [
       "  region_type  sum_missing_moles_year  sum_missing_kWh_year  \\\n",
       "0        city             4331.587753           1132.441243   \n",
       "1       north             4466.853668           1167.804881   \n",
       "\n",
       "   Cost_per_m2_per_year_USD  \n",
       "0                199.309659  \n",
       "1                205.533659  "
      ]
     },
     "execution_count": 18,
     "metadata": {},
     "output_type": "execute_result"
    }
   ],
   "source": [
    "int_grouped_month['Missing_moles_per_month']=int_grouped_month['Missing_moles']*30\n",
    "sum_missing_mols=int_grouped_month.groupby(['region_type']).agg({'Missing_moles_per_month':['sum']})\n",
    "sum_missing_mols.columns=['sum_missing_moles_year']\n",
    "sum_missing_mols=sum_missing_mols.reset_index()\n",
    "sum_missing_mols['sum_missing_kWh_year']=sum_missing_mols['sum_missing_moles_year']/0.45/8.5\n",
    "sum_missing_mols['Cost_per_m2_per_year_USD']=sum_missing_mols['sum_missing_kWh_year']*0.16*1.1\n",
    "sum_missing_mols"
   ]
  },
  {
   "cell_type": "markdown",
   "metadata": {},
   "source": [
    "The estimated cost per year assumes a tarif of 0.16$/kWh and a lighting effciency of 90\\%. \n",
    "\n",
    "A final point that should be taken into account is the difference in the average temperatures, dew points ane relative humidity."
   ]
  },
  {
   "cell_type": "code",
   "execution_count": 24,
   "metadata": {},
   "outputs": [
    {
     "data": {
      "text/plain": [
       "<matplotlib.axes._subplots.AxesSubplot at 0x2a98b4a4278>"
      ]
     },
     "execution_count": 24,
     "metadata": {},
     "output_type": "execute_result"
    },
    {
     "data": {
      "image/png": "[encoded data removed]",
      "text/plain": [
       "<Figure size 432x288 with 1 Axes>"
      ]
     },
     "metadata": {
      "needs_background": "light"
     },
     "output_type": "display_data"
    }
   ],
   "source": [
    "grouped_month_Temp=df_bogota.groupby(['region_type']).agg({'Temperature':['mean'], 'Dew Point':['mean'],'Relative Humidity':['mean'] })\n",
    "grouped_month_Temp.columns=['Temp_mean', 'Dew_point_mean', 'Rel_Hum_mean']\n",
    "grouped_month_Temp=grouped_month_Temp.reset_index()\n",
    "\n",
    "sns.barplot(x='Month', y='Temp_mean', hue='region_type',data=grouped_month_Temp)"
   ]
  },
  {
   "cell_type": "code",
   "execution_count": 25,
   "metadata": {},
   "outputs": [
    {
     "data": {
      "text/plain": [
       "<matplotlib.axes._subplots.AxesSubplot at 0x2a98b54c550>"
      ]
     },
     "execution_count": 25,
     "metadata": {},
     "output_type": "execute_result"
    },
    {
     "data": {
      "image/png": "[encoded data removed]",
      "text/plain": [
       "<Figure size 432x288 with 1 Axes>"
      ]
     },
     "metadata": {
      "needs_background": "light"
     },
     "output_type": "display_data"
    }
   ],
   "source": [
    "sns.barplot(x='Month', y='Dew_point_mean', hue='region_type',data=grouped_month_Temp)"
   ]
  },
  {
   "cell_type": "code",
   "execution_count": 26,
   "metadata": {},
   "outputs": [
    {
     "data": {
      "text/plain": [
       "<matplotlib.axes._subplots.AxesSubplot at 0x2a9870410b8>"
      ]
     },
     "execution_count": 26,
     "metadata": {},
     "output_type": "execute_result"
    },
    {
     "data": {
      "image/png": "[encoded data removed]",
      "text/plain": [
       "<Figure size 432x288 with 1 Axes>"
      ]
     },
     "metadata": {
      "needs_background": "light"
     },
     "output_type": "display_data"
    }
   ],
   "source": [
    "sns.barplot(x='Month', y='Rel_Hum_mean', hue='region_type',data=grouped_month_Temp)"
   ]
  },
  {
   "cell_type": "markdown",
   "metadata": {},
   "source": []
  },
  {
   "cell_type": "markdown",
   "metadata": {},
   "source": [
    "Finally lets look at the hours of the day where fog, or condensation is possible (where the temperature is lower than the dew point) "
   ]
  },
  {
   "cell_type": "code",
   "execution_count": 44,
   "metadata": {},
   "outputs": [
    {
     "data": {
      "image/png": "[encoded data removed]",
      "text/plain": [
       "<Figure size 457.35x360 with 1 Axes>"
      ]
     },
     "metadata": {
      "needs_background": "light"
     },
     "output_type": "display_data"
    }
   ],
   "source": [
    "df_bogota['Condensation']=(df_bogota['Temperature']-df_bogota['Dew Point'])<0\n",
    "g=sns.relplot(x='Hour', y='Condensation', data=df_bogota, hue='region_type' ,kind='line')"
   ]
  },
  {
   "cell_type": "markdown",
   "metadata": {},
   "source": [
    "This answers the third question: what is the influence of the inmediate environment? The north of the city has a slighter higher temperaure (some degrees), dew point and relative humidity remaining almost constant. This leads to a larger amount of hours where fog is present, which will surely affect any electronic equipment that es exposed to the environment.\n",
    "\n",
    "With these Infos the grower should now be capable of calculating if its worth for him, depending on the value of his crops, installing artificial lighting."
   ]
  }
 ],
 "metadata": {
  "kernelspec": {
   "display_name": "Python 3",
   "language": "python",
   "name": "python3"
  },
  "language_info": {
   "codemirror_mode": {
    "name": "ipython",
    "version": 3
   },
   "file_extension": ".py",
   "mimetype": "text/x-python",
   "name": "python",
   "nbconvert_exporter": "python",
   "pygments_lexer": "ipython3",
   "version": "3.7.1"
  }
 },
 "nbformat": 4,
 "nbformat_minor": 2
}
